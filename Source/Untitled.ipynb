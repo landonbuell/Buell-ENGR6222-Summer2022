{
 "cells": [
  {
   "cell_type": "code",
   "execution_count": 1,
   "id": "3ba2d374",
   "metadata": {},
   "outputs": [],
   "source": [
    "import numpy as np\n",
    "import matplotlib.pyplot as plt\n",
    "import scipy.interpolate as interp"
   ]
  },
  {
   "cell_type": "code",
   "execution_count": 2,
   "id": "e2650a12",
   "metadata": {},
   "outputs": [
    {
     "name": "stdout",
     "output_type": "stream",
     "text": [
      "(27, 27)\n",
      "(27, 27)\n"
     ]
    }
   ],
   "source": [
    "# Generate inputs\n",
    "x = np.linspace(0,28,27)\n",
    "y = np.linspace(0,28,27)\n",
    "xx,yy = np.meshgrid(x,y)\n",
    "# Show the shapes\n",
    "print(xx.shape)\n",
    "print(yy.shape)"
   ]
  },
  {
   "cell_type": "code",
   "execution_count": 5,
   "id": "4e7c50f6",
   "metadata": {},
   "outputs": [
    {
     "data": {
      "image/png": "[encoded data removed]",
      "text/plain": [
       "<Figure size 432x288 with 1 Axes>"
      ]
     },
     "metadata": {
      "needs_background": "light"
     },
     "output_type": "display_data"
    }
   ],
   "source": [
    "# Generate + Plot\n",
    "zz = np.log(xx + yy + 0.1) + 1\n",
    "plt.imshow(zz)\n",
    "plt.xticks(range(len(zz)))\n",
    "plt.yticks(range(len(zz)))\n",
    "plt.show()"
   ]
  },
  {
   "cell_type": "code",
   "execution_count": 31,
   "id": "f7365717",
   "metadata": {},
   "outputs": [],
   "source": [
    "# Build Interp function\n",
    "f = interp.interp2d(x,y,zz)"
   ]
  },
  {
   "cell_type": "code",
   "execution_count": 32,
   "id": "3d7a2bf5",
   "metadata": {},
   "outputs": [
    {
     "name": "stdout",
     "output_type": "stream",
     "text": [
      "(28,)\n",
      "(28,)\n"
     ]
    }
   ],
   "source": [
    "# New X + Y\n",
    "xNew = np.linspace(0,28,28)\n",
    "yNew = np.linspace(0,28,28)\n",
    "# Show the shapes\n",
    "print(xNew.shape)\n",
    "print(yNew.shape)"
   ]
  },
  {
   "cell_type": "code",
   "execution_count": 33,
   "id": "4053d92f",
   "metadata": {},
   "outputs": [
    {
     "data": {
      "image/png": "[encoded data removed]",
      "text/plain": [
       "<Figure size 432x288 with 1 Axes>"
      ]
     },
     "metadata": {
      "needs_background": "light"
     },
     "output_type": "display_data"
    }
   ],
   "source": [
    "zzNew = f(xNew,yNew)\n",
    "plt.imshow(zzNew)\n",
    "plt.show()"
   ]
  },
  {
   "cell_type": "code",
   "execution_count": null,
   "id": "0e9e3ed6",
   "metadata": {},
   "outputs": [],
   "source": []
  }
 ],
 "metadata": {
  "kernelspec": {
   "display_name": "Python 3 (ipykernel)",
   "language": "python",
   "name": "python3"
  },
  "language_info": {
   "codemirror_mode": {
    "name": "ipython",
    "version": 3
   },
   "file_extension": ".py",
   "mimetype": "text/x-python",
   "name": "python",
   "nbconvert_exporter": "python",
   "pygments_lexer": "ipython3",
   "version": "3.9.9"
  }
 },
 "nbformat": 4,
 "nbformat_minor": 5
}
